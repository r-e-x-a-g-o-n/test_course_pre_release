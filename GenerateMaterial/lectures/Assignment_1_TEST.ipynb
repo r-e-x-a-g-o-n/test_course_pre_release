{
 "cells": [
  {
   "cell_type": "markdown",
   "id": "f2f3dc43",
   "metadata": {
    "deletable": false
   },
   "source": [
    "%md\n",
    "# Assignment 1 for Course 54514\n",
    "Make sure you pass the `# ... Test` cells and\n",
    " submit your solution notebook in the corresponding assignment on the course website. You can submit multiple times before the deadline and your highest score will be used."
   ]
  },
  {
   "cell_type": "code",
   "execution_count": 0,
   "id": "c3411a8b",
   "metadata": {
    "application/vnd.databricks.v1+cell": {
     "inputWidgets": {},
     "nuid": "b0edc8cc-a452-4a77-9625-82870eda8490",
     "showTitle": false,
     "title": ""
    },
    "deletable": false,
    "lx_assignment_number": "1",
    "lx_assignment_type": "ASSIGNMENT",
    "lx_assignment_type2print": "Assignment",
    "lx_problem_cell_type": "TEST",
    "lx_problem_number": "1",
    "lx_problem_points": "1",
    "scrolled": false
   },
   "outputs": [],
   "source": [
    "# ASSIGNMENT 1, TEST 1, POINTS 1\n",
    "# This is a TEST cell which the autograder uses to check whether student answers or codes are correct or not, and adjust points accordingly.\n",
    "\n",
    "local_points = 0\n",
    "\n",
    "answer = [2,12,30]\n",
    "\n",
    "try:\n",
    "  assert(answer.sort() == multiply_list.sort())\n",
    "  local_points = local_points + 1\n",
    "  print(\"multiply_list is correct.\")\n",
    "except:\n",
    "  print(\"multiply_list is incorrect.\")\n",
    "finally:\n",
    "  print() # You may add a print here.\n",
    "  "
   ]
  }
 ],
 "metadata": {
  "lx_assignment_number": 1,
  "lx_course_instance": "2022",
  "lx_course_name": "Scalable Data Science and Distributed Machine Learning",
  "lx_course_number": "54514"
 },
 "nbformat": 4,
 "nbformat_minor": 5
}
