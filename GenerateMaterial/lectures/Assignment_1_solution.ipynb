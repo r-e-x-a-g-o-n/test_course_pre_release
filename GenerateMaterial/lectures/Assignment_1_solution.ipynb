{
 "cells": [
  {
   "cell_type": "markdown",
   "id": "3fac17e7",
   "metadata": {
    "deletable": false
   },
   "source": [
    "%md\n",
    "# Assignment 1 for Course 54514\n",
    "Make sure you pass the `# ... Test` cells and\n",
    " submit your solution notebook in the corresponding assignment on the course website. You can submit multiple times before the deadline and your highest score will be used."
   ]
  },
  {
   "cell_type": "markdown",
   "id": "a6c91d57",
   "metadata": {
    "application/vnd.databricks.v1+cell": {
     "inputWidgets": {},
     "nuid": "27a24910-085e-4dda-8305-2d44444ecd57",
     "showTitle": false,
     "title": ""
    },
    "deletable": false,
    "lx_assignment_number": "1",
    "lx_assignment_type": "ASSIGNMENT",
    "lx_assignment_type2print": "Assignment",
    "lx_problem_cell_type": "SOLUTION",
    "lx_problem_number": "1",
    "lx_problem_points": "1",
    "scrolled": false
   },
   "source": [
    "---\n",
    "## Assignment 1, SOLUTION 1\n",
    "Maximum Points = 1"
   ]
  },
  {
   "cell_type": "code",
   "execution_count": 0,
   "id": "34df2fd3",
   "metadata": {
    "application/vnd.databricks.v1+cell": {
     "inputWidgets": {},
     "nuid": "27a24910-085e-4dda-8305-2d44444ecd57",
     "showTitle": false,
     "title": ""
    },
    "deletable": false,
    "lx_assignment_number": "1",
    "lx_assignment_type": "ASSIGNMENT",
    "lx_assignment_type2print": "Assignment",
    "lx_problem_cell_type": "SOLUTION",
    "lx_problem_number": "1",
    "lx_problem_points": "1",
    "scrolled": false
   },
   "outputs": [],
   "source": [
    "# This is a Test cell to keep the solution for a reference.\n",
    "\n",
    "multiply_list = [a*b for a, b in dict.items()]"
   ]
  }
 ],
 "metadata": {
  "lx_assignment_number": 1,
  "lx_course_instance": "2022",
  "lx_course_name": "Scalable Data Science and Distributed Machine Learning",
  "lx_course_number": "54514"
 },
 "nbformat": 4,
 "nbformat_minor": 5
}
