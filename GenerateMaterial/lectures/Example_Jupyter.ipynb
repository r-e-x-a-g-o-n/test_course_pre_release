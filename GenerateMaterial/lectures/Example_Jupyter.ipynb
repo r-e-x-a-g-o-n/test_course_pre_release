{
 "cells": [
  {
   "cell_type": "markdown",
   "id": "c40f28d0",
   "metadata": {
    "deletable": false
   },
   "source": [
    "# Scalable Data Science and Distributed Machine Learning, Year 2022 (54514)\n",
    "### ScaDaMaLe Course [Site](https://lamastex.github.io/scalable-data-science/sds/3/x/) and [book](https://lamastex.github.io/ScaDaMaLe/index.html)     \n",
    "2022 Raazesh Sainudiin. [Attribution 4.0 International     (CC BY 4.0)](https://creativecommons.org/licenses/by/4.0/)"
   ]
  },
  {
   "cell_type": "markdown",
   "metadata": {
    "application/vnd.databricks.v1+cell": {
     "inputWidgets": {},
     "nuid": "7eff542b-8e7f-434a-829d-20ce0fa52459",
     "showTitle": false,
     "title": ""
    }
   },
   "source": [
    "# Example of Master Notebook\n",
    "\n",
    "## ASSIGNMENT 1\n",
    "\n",
    "This notebook is just a template for a master notebook, and this cell is a lecture cell.\n",
    "You can add lecture notes in markdown cells or code cells as desired without any tags.\n",
    "\n",
    "> This cell is extracted to a lecture notebook."
   ]
  },
  {
   "cell_type": "markdown",
   "metadata": {
    "application/vnd.databricks.v1+cell": {
     "inputWidgets": {},
     "nuid": "f319b700-ad21-4e36-b39f-d1c088406597",
     "showTitle": false,
     "title": ""
    }
   },
   "source": [
    "## This starts the lecture part.\n",
    "\n",
    "Add anything here for a lecture.\n",
    "\n",
    "> This cell is extracted to a lecture notebook."
   ]
  },
  {
   "cell_type": "markdown",
   "metadata": {
    "application/vnd.databricks.v1+cell": {
     "inputWidgets": {},
     "nuid": "e4831746-d131-4c89-beb3-c15a983ec35f",
     "showTitle": false,
     "title": ""
    }
   },
   "source": [
    "This is another lecture cell.\n",
    "\n",
    "> This cell is extracted to a lecture notebook."
   ]
  },
  {
   "cell_type": "code",
   "execution_count": 0,
   "metadata": {
    "application/vnd.databricks.v1+cell": {
     "inputWidgets": {},
     "nuid": "45e3f6ec-cfb6-40f6-b3a0-e76241eaea4e",
     "showTitle": false,
     "title": ""
    }
   },
   "outputs": [],
   "source": [
    "# You can add some codes here for students to play along.\n",
    "# You can add more Python cells if you want.\n",
    "# code goes here\n",
    "#\n",
    "# This cell is extracted to a lecture notebook."
   ]
  }
 ],
 "metadata": {
  "application/vnd.databricks.v1+notebook": {
   "dashboards": [],
   "language": "python",
   "notebookMetadata": {
    "pythonIndentUnit": 4
   },
   "notebookName": "Master_Notebook_Example_Jupyter",
   "notebookOrigID": 709681751931465,
   "widgets": {}
  },
  "lx_course_instance": "2022",
  "lx_course_name": "Scalable Data Science and Distributed Machine Learning",
  "lx_course_number": "54514"
 },
 "nbformat": 4,
 "nbformat_minor": 0
}
